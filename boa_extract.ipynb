{
 "cells": [
  {
   "cell_type": "code",
   "execution_count": 1,
   "metadata": {},
   "outputs": [
    {
     "ename": "SyntaxError",
     "evalue": "invalid syntax (1632432141.py, line 14)",
     "output_type": "error",
     "traceback": [
      "\u001b[1;36m  Cell \u001b[1;32mIn[1], line 14\u001b[1;36m\u001b[0m\n\u001b[1;33m    travel =\u001b[0m\n\u001b[1;37m             ^\u001b[0m\n\u001b[1;31mSyntaxError\u001b[0m\u001b[1;31m:\u001b[0m invalid syntax\n"
     ]
    }
   ],
   "source": [
    "import csv\n",
    "import pandas as pd\n",
    "import json\n",
    "\n",
    "csv_file = \"y2d_chase.csv\"\n",
    "json_file = \"transactions.json\"\n",
    "\n",
    "transactions = []\n",
    "\n",
    "input_df = pd.read_csv(csv_file)\n",
    "print(input_df)\n",
    "# Calculate the sum of negative values in the column\n",
    "food_drinks = input_df.loc[input_df['Amount'] < 0, 'Amount'].sum()\n",
    "travel = \n",
    "groceries = \n",
    "additions = input_df.loc[input_df['Amount'] > 0, 'Amount'].sum()\n",
    "print(subtractions)\n",
    "print(additions)\n",
    "input_df.to_json(json_file, orient=\"records\")\n",
    "# print(\"JSON file created successfully.\")"
   ]
  }
 ],
 "metadata": {
  "kernelspec": {
   "display_name": "Python 3",
   "language": "python",
   "name": "python3"
  },
  "language_info": {
   "codemirror_mode": {
    "name": "ipython",
    "version": 3
   },
   "file_extension": ".py",
   "mimetype": "text/x-python",
   "name": "python",
   "nbconvert_exporter": "python",
   "pygments_lexer": "ipython3",
   "version": "3.10.11"
  }
 },
 "nbformat": 4,
 "nbformat_minor": 2
}
